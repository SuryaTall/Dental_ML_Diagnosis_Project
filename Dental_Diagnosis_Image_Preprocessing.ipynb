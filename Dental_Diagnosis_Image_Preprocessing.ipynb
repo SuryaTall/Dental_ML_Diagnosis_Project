{
 "cells": [
  {
   "cell_type": "code",
   "execution_count": 5,
   "id": "79db4ba5-9d69-468c-96c4-952cc0046eb6",
   "metadata": {},
   "outputs": [
    {
     "name": "stdout",
     "output_type": "stream",
     "text": [
      "Collecting pycocotools\n",
      "  Using cached pycocotools-2.0.8-cp312-cp312-macosx_10_9_universal2.whl.metadata (1.1 kB)\n",
      "Requirement already satisfied: matplotlib>=2.1.0 in /Users/shreejith/miniconda3/envs/av/lib/python3.12/site-packages (from pycocotools) (3.8.4)\n",
      "Requirement already satisfied: numpy in /Users/shreejith/miniconda3/envs/av/lib/python3.12/site-packages (from pycocotools) (1.26.4)\n",
      "Requirement already satisfied: contourpy>=1.0.1 in /Users/shreejith/miniconda3/envs/av/lib/python3.12/site-packages (from matplotlib>=2.1.0->pycocotools) (1.2.0)\n",
      "Requirement already satisfied: cycler>=0.10 in /Users/shreejith/miniconda3/envs/av/lib/python3.12/site-packages (from matplotlib>=2.1.0->pycocotools) (0.11.0)\n",
      "Requirement already satisfied: fonttools>=4.22.0 in /Users/shreejith/miniconda3/envs/av/lib/python3.12/site-packages (from matplotlib>=2.1.0->pycocotools) (4.51.0)\n",
      "Requirement already satisfied: kiwisolver>=1.3.1 in /Users/shreejith/miniconda3/envs/av/lib/python3.12/site-packages (from matplotlib>=2.1.0->pycocotools) (1.4.4)\n",
      "Requirement already satisfied: packaging>=20.0 in /Users/shreejith/miniconda3/envs/av/lib/python3.12/site-packages (from matplotlib>=2.1.0->pycocotools) (23.2)\n",
      "Requirement already satisfied: pillow>=8 in /Users/shreejith/miniconda3/envs/av/lib/python3.12/site-packages (from matplotlib>=2.1.0->pycocotools) (10.3.0)\n",
      "Requirement already satisfied: pyparsing>=2.3.1 in /Users/shreejith/miniconda3/envs/av/lib/python3.12/site-packages (from matplotlib>=2.1.0->pycocotools) (3.0.9)\n",
      "Requirement already satisfied: python-dateutil>=2.7 in /Users/shreejith/miniconda3/envs/av/lib/python3.12/site-packages (from matplotlib>=2.1.0->pycocotools) (2.9.0.post0)\n",
      "Requirement already satisfied: six>=1.5 in /Users/shreejith/miniconda3/envs/av/lib/python3.12/site-packages (from python-dateutil>=2.7->matplotlib>=2.1.0->pycocotools) (1.16.0)\n",
      "Downloading pycocotools-2.0.8-cp312-cp312-macosx_10_9_universal2.whl (162 kB)\n",
      "\u001b[2K   \u001b[90m━━━━━━━━━━━━━━━━━━━━━━━━━━━━━━━━━━━━━━━━\u001b[0m \u001b[32m162.7/162.7 kB\u001b[0m \u001b[31m1.9 MB/s\u001b[0m eta \u001b[36m0:00:00\u001b[0ma \u001b[36m0:00:01\u001b[0m\n",
      "\u001b[?25hInstalling collected packages: pycocotools\n",
      "Successfully installed pycocotools-2.0.8\n"
     ]
    }
   ],
   "source": [
    "!pip install pycocotools"
   ]
  },
  {
   "cell_type": "code",
   "execution_count": 27,
   "id": "581b25c6-21dc-4568-a457-ac35a639c77d",
   "metadata": {},
   "outputs": [
    {
     "name": "stdout",
     "output_type": "stream",
     "text": [
      "loading annotations into memory...\n",
      "Done (t=0.37s)\n",
      "creating index...\n",
      "index created!\n",
      "Processed 100 images and 100 sets of annotations.\n"
     ]
    }
   ],
   "source": [
    "import os\n",
    "import numpy as np\n",
    "from pycocotools.coco import COCO\n",
    "from PIL import Image\n",
    "\n",
    "def preprocess_image(image_path, target_size=(224, 224)):\n",
    "    #Load an image, resize it to the target size, and normalize pixel values.\n",
    "    image = Image.open(image_path).convert('RGB')\n",
    "    image = image.resize(target_size)\n",
    "    image_array = np.array(image) / 255.0  # Normalize to [0,1]\n",
    "    return image_array\n",
    "    \n",
    "def load_coco_annotations(coco_json_path, images_dir, target_size=(224, 224), max_images = 100):\n",
    "    #From the COCO Json_File, load and preprocess the first 100 images/annotations\n",
    "    coco = COCO(coco_json_path)\n",
    "    images = []\n",
    "    annotations = []\n",
    "    \n",
    "    #Getting the first 100 images from the files\n",
    "    img_ids = coco.getImgIds()[:max_images]\n",
    "    \n",
    "    # Loop over the 100 images\n",
    "    for img_id in img_ids:\n",
    "        img_info = coco.loadImgs(img_id)[0] #Loads the first entry of the list of dictionaries containing metadata; Img_info has file name, width, height, etc.\n",
    "        image_path = os.path.join(images_dir, img_info['file_name']) #Combines the image directory [With all images] with file name info retrieved in img_info\n",
    "        \n",
    "        # Preprocess the image\n",
    "        processed_image = preprocess_image(image_path, target_size) #Refers to previously defined function\n",
    "        images.append(processed_image) #Append the newly processed images to the images list.\n",
    "        \n",
    "        # Get annotations for the current image\n",
    "        ann_ids = coco.getAnnIds(imgIds=img_id) #Retrieves annotation data associated with current image in img_id loop; stores it in ann_ids list\n",
    "        img_annotations = [] #Creates list to store processed annotations for current image in img_id loop\n",
    "        \n",
    "        for ann in coco.loadAnns(ann_ids): #looping through the annotation data for each image.\n",
    "            if 'bbox' in ann: #To preprocess the bound box annotation if it's present\n",
    "                x, y, w, h = ann['bbox'] #the annotation bbox has x, y, width, height in the boundbox\n",
    "                x_scale = target_size[0] / img_info['width'] \n",
    "                y_scale = target_size[1] / img_info['height']\n",
    "                #BOTH of the above lines scales the bounding box coordinates to target size for x and y coordinates; creates two variables to apply to the scaling\n",
    "                \n",
    "                # Scale bounding boxes to the new image size\n",
    "                scaled_bbox = [x * x_scale, y * y_scale, w * x_scale, h * y_scale] #Application of the scaling to target size.\n",
    "                img_annotations.append(scaled_bbox) #Appends the new bound box coordinates to processed annotations for current image\n",
    "        \n",
    "        annotations.append(img_annotations) #annotations now contains the processed bbox coordinates\n",
    "    \n",
    "    return np.array(images), annotations #Return the preprocessed images and annotations\n",
    "    \n",
    "coco_json_path = '/Users/shreejith/suryaprojects/Dental_ML_Diagnosis_Project/Panoramic_Dental_Xray_Dataset/COCO/COCO/annotations/train_coco.json'\n",
    "images_dir = '/Users/shreejith/suryaprojects/Dental_ML_Diagnosis_Project/Panoramic_Dental_Xray_Dataset/COCO/COCO/train'\n",
    "target_size = (224, 224)\n",
    "max_images = 100\n",
    "\n",
    "images, annotations = load_coco_annotations(coco_json_path, images_dir, target_size, max_images=max_images)\n",
    "\n",
    "print(f\"Processed {len(images)} images and {len(annotations)} sets of annotations.\")"
   ]
  },
  {
   "cell_type": "code",
   "execution_count": null,
   "id": "bb3272ba-bebb-48e8-9374-44c2fe68f9d8",
   "metadata": {},
   "outputs": [],
   "source": []
  }
 ],
 "metadata": {
  "kernelspec": {
   "display_name": "Python 3 (ipykernel)",
   "language": "python",
   "name": "python3"
  },
  "language_info": {
   "codemirror_mode": {
    "name": "ipython",
    "version": 3
   },
   "file_extension": ".py",
   "mimetype": "text/x-python",
   "name": "python",
   "nbconvert_exporter": "python",
   "pygments_lexer": "ipython3",
   "version": "3.12.4"
  }
 },
 "nbformat": 4,
 "nbformat_minor": 5
}
