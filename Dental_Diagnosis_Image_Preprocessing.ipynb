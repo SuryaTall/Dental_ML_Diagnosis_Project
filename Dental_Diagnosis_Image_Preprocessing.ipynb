{
 "cells": [
  {
   "cell_type": "code",
   "execution_count": 5,
   "id": "79db4ba5-9d69-468c-96c4-952cc0046eb6",
   "metadata": {},
   "outputs": [
    {
     "name": "stdout",
     "output_type": "stream",
     "text": [
      "Collecting pycocotools\n",
      "  Using cached pycocotools-2.0.8-cp312-cp312-macosx_10_9_universal2.whl.metadata (1.1 kB)\n",
      "Requirement already satisfied: matplotlib>=2.1.0 in /Users/shreejith/miniconda3/envs/av/lib/python3.12/site-packages (from pycocotools) (3.8.4)\n",
      "Requirement already satisfied: numpy in /Users/shreejith/miniconda3/envs/av/lib/python3.12/site-packages (from pycocotools) (1.26.4)\n",
      "Requirement already satisfied: contourpy>=1.0.1 in /Users/shreejith/miniconda3/envs/av/lib/python3.12/site-packages (from matplotlib>=2.1.0->pycocotools) (1.2.0)\n",
      "Requirement already satisfied: cycler>=0.10 in /Users/shreejith/miniconda3/envs/av/lib/python3.12/site-packages (from matplotlib>=2.1.0->pycocotools) (0.11.0)\n",
      "Requirement already satisfied: fonttools>=4.22.0 in /Users/shreejith/miniconda3/envs/av/lib/python3.12/site-packages (from matplotlib>=2.1.0->pycocotools) (4.51.0)\n",
      "Requirement already satisfied: kiwisolver>=1.3.1 in /Users/shreejith/miniconda3/envs/av/lib/python3.12/site-packages (from matplotlib>=2.1.0->pycocotools) (1.4.4)\n",
      "Requirement already satisfied: packaging>=20.0 in /Users/shreejith/miniconda3/envs/av/lib/python3.12/site-packages (from matplotlib>=2.1.0->pycocotools) (23.2)\n",
      "Requirement already satisfied: pillow>=8 in /Users/shreejith/miniconda3/envs/av/lib/python3.12/site-packages (from matplotlib>=2.1.0->pycocotools) (10.3.0)\n",
      "Requirement already satisfied: pyparsing>=2.3.1 in /Users/shreejith/miniconda3/envs/av/lib/python3.12/site-packages (from matplotlib>=2.1.0->pycocotools) (3.0.9)\n",
      "Requirement already satisfied: python-dateutil>=2.7 in /Users/shreejith/miniconda3/envs/av/lib/python3.12/site-packages (from matplotlib>=2.1.0->pycocotools) (2.9.0.post0)\n",
      "Requirement already satisfied: six>=1.5 in /Users/shreejith/miniconda3/envs/av/lib/python3.12/site-packages (from python-dateutil>=2.7->matplotlib>=2.1.0->pycocotools) (1.16.0)\n",
      "Downloading pycocotools-2.0.8-cp312-cp312-macosx_10_9_universal2.whl (162 kB)\n",
      "\u001b[2K   \u001b[90m━━━━━━━━━━━━━━━━━━━━━━━━━━━━━━━━━━━━━━━━\u001b[0m \u001b[32m162.7/162.7 kB\u001b[0m \u001b[31m1.9 MB/s\u001b[0m eta \u001b[36m0:00:00\u001b[0ma \u001b[36m0:00:01\u001b[0m\n",
      "\u001b[?25hInstalling collected packages: pycocotools\n",
      "Successfully installed pycocotools-2.0.8\n"
     ]
    }
   ],
   "source": [
    "!pip install pycocotools"
   ]
  },
  {
   "cell_type": "code",
   "execution_count": 18,
   "id": "581b25c6-21dc-4568-a457-ac35a639c77d",
   "metadata": {},
   "outputs": [
    {
     "name": "stdout",
     "output_type": "stream",
     "text": [
      "loading annotations into memory...\n"
     ]
    },
    {
     "ename": "NotADirectoryError",
     "evalue": "[Errno 20] Not a directory: '/Users/shreejith/suryaprojects/Dental_ML_Diagnosis_Project/train_coco.json/annotations/instances_train_coco.json'",
     "output_type": "error",
     "traceback": [
      "\u001b[0;31m---------------------------------------------------------------------------\u001b[0m",
      "\u001b[0;31mNotADirectoryError\u001b[0m                        Traceback (most recent call last)",
      "Cell \u001b[0;32mIn[18], line 10\u001b[0m\n\u001b[1;32m      7\u001b[0m annotations_File\u001b[38;5;241m=\u001b[39m\u001b[38;5;124m'\u001b[39m\u001b[38;5;132;01m{}\u001b[39;00m\u001b[38;5;124m/annotations/instances_\u001b[39m\u001b[38;5;132;01m{}\u001b[39;00m\u001b[38;5;124m.json\u001b[39m\u001b[38;5;124m'\u001b[39m\u001b[38;5;241m.\u001b[39mformat(data_directory,dataType) \u001b[38;5;66;03m# path to your COCO annotation file\u001b[39;00m\n\u001b[1;32m      9\u001b[0m \u001b[38;5;66;03m# Initialize the COCO API\u001b[39;00m\n\u001b[0;32m---> 10\u001b[0m coco\u001b[38;5;241m=\u001b[39mCOCO(annotations_File)\n",
      "File \u001b[0;32m~/miniconda3/envs/av/lib/python3.12/site-packages/pycocotools/coco.py:81\u001b[0m, in \u001b[0;36mCOCO.__init__\u001b[0;34m(self, annotation_file)\u001b[0m\n\u001b[1;32m     79\u001b[0m \u001b[38;5;28mprint\u001b[39m(\u001b[38;5;124m'\u001b[39m\u001b[38;5;124mloading annotations into memory...\u001b[39m\u001b[38;5;124m'\u001b[39m)\n\u001b[1;32m     80\u001b[0m tic \u001b[38;5;241m=\u001b[39m time\u001b[38;5;241m.\u001b[39mtime()\n\u001b[0;32m---> 81\u001b[0m \u001b[38;5;28;01mwith\u001b[39;00m \u001b[38;5;28mopen\u001b[39m(annotation_file, \u001b[38;5;124m'\u001b[39m\u001b[38;5;124mr\u001b[39m\u001b[38;5;124m'\u001b[39m) \u001b[38;5;28;01mas\u001b[39;00m f:\n\u001b[1;32m     82\u001b[0m     dataset \u001b[38;5;241m=\u001b[39m json\u001b[38;5;241m.\u001b[39mload(f)\n\u001b[1;32m     83\u001b[0m \u001b[38;5;28;01massert\u001b[39;00m \u001b[38;5;28mtype\u001b[39m(dataset)\u001b[38;5;241m==\u001b[39m\u001b[38;5;28mdict\u001b[39m, \u001b[38;5;124m'\u001b[39m\u001b[38;5;124mannotation file format \u001b[39m\u001b[38;5;132;01m{}\u001b[39;00m\u001b[38;5;124m not supported\u001b[39m\u001b[38;5;124m'\u001b[39m\u001b[38;5;241m.\u001b[39mformat(\u001b[38;5;28mtype\u001b[39m(dataset))\n",
      "\u001b[0;31mNotADirectoryError\u001b[0m: [Errno 20] Not a directory: '/Users/shreejith/suryaprojects/Dental_ML_Diagnosis_Project/train_coco.json/annotations/instances_train_coco.json'"
     ]
    }
   ],
   "source": [
    "import os\n",
    "import numpy as np\n",
    "from pycocotools.coco import COCO\n",
    "from PIL import Image\n",
    "\n",
    "def preprocess_image(image_path, target_size=(224, 224)):\n",
    "    #Load an image, resize it to the target size, and normalize pixel values.\n",
    "    image = Image.open(image_path).convert('RGB')\n",
    "    image = image.resize(target_size)\n",
    "    image_array = np.array(image) / 255.0  # Normalize to [0,1]\n",
    "    return image_array\n",
    "\n",
    "def load_coco_annotations(coco_json_path, images_dir, target_size=(224, 224)):\n",
    "    #Load images and annotations from a COCO JSON file, preprocess images, and return data ready for training.\n",
    "    coco = COCO(coco_json_path)\n",
    "    images = []\n",
    "    annotations = []\n",
    "    \n",
    "    # Loop over all images in the COCO dataset\n",
    "    for img_id in coco.getImgIds():\n",
    "        img_info = coco.loadImgs(img_id)[0]\n",
    "        image_path = os.path.join(images_dir, img_info['file_name'])\n",
    "        \n",
    "        # Preprocess the image\n",
    "        processed_image = preprocess_image(image_path, target_size)\n",
    "        images.append(processed_image)\n",
    "        \n",
    "        # Get annotations for the current image\n",
    "        ann_ids = coco.getAnnIds(imgIds=img_id)\n",
    "        img_annotations = []\n",
    "        \n",
    "        for ann in coco.loadAnns(ann_ids):\n",
    "            if 'bbox' in ann:\n",
    "                # Process bounding box annotations (x, y, width, height)\n",
    "                x, y, w, h = ann['bbox']\n",
    "                x_scale = target_size[0] / img_info['width']\n",
    "                y_scale = target_size[1] / img_info['height']\n",
    "                \n",
    "                # Scale bounding boxes to the new image size\n",
    "                scaled_bbox = [x * x_scale, y * y_scale, w * x_scale, h * y_scale]\n",
    "                img_annotations.append(scaled_bbox)\n",
    "        \n",
    "        annotations.append(img_annotations)\n",
    "    \n",
    "    return np.array(images), annotations\n",
    "\n",
    "# Example usage\n",
    "coco_json_path = '/Users/shreejith/suryaprojects/Dental_ML_Diagnosis_Project/train_coco.json'\n",
    "images_dir = 'path/to/images'\n",
    "target_size = (224, 224)\n",
    "\n",
    "images, annotations = load_coco_annotations(coco_json_path, images_dir, target_size)\n",
    "\n",
    "print(f\"Processed {len(images)} images and {len(annotations)} sets of annotations.\")"
   ]
  },
  {
   "cell_type": "code",
   "execution_count": null,
   "id": "bb3272ba-bebb-48e8-9374-44c2fe68f9d8",
   "metadata": {},
   "outputs": [],
   "source": []
  }
 ],
 "metadata": {
  "kernelspec": {
   "display_name": "Python 3 (ipykernel)",
   "language": "python",
   "name": "python3"
  },
  "language_info": {
   "codemirror_mode": {
    "name": "ipython",
    "version": 3
   },
   "file_extension": ".py",
   "mimetype": "text/x-python",
   "name": "python",
   "nbconvert_exporter": "python",
   "pygments_lexer": "ipython3",
   "version": "3.12.4"
  }
 },
 "nbformat": 4,
 "nbformat_minor": 5
}
